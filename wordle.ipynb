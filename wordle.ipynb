{
  "nbformat": 4,
  "nbformat_minor": 0,
  "metadata": {
    "colab": {
      "name": "wordle.ipynb",
      "provenance": [],
      "collapsed_sections": []
    },
    "kernelspec": {
      "name": "python3",
      "display_name": "Python 3"
    },
    "language_info": {
      "name": "python"
    }
  },
  "cells": [
    {
      "cell_type": "code",
      "execution_count": 28,
      "metadata": {
        "id": "OlT42ceIhAp3"
      },
      "outputs": [],
      "source": [
        "\n",
        "# import pandas as pd\n",
        "import pandas as pd \n",
        "import numpy as np\n",
        "from IPython.core.interactiveshell import InteractiveShell\n",
        "InteractiveShell.ast_node_interactivity = \"all\" \n",
        "import random\n",
        "import matplotlib.pyplot as plt\n",
        "from collections import Counter"
      ]
    },
    {
      "cell_type": "markdown",
      "source": [
        "# **WORDLE Algorithm Solver**\n",
        "\n",
        "There is a set amount of 6 tries. Each guess is a valid 5 letter word and if the letter is in the word and in the correct spot it will be GREEN if it in the word but in the wrong spot then it'll be YELLOW if it not in the word then it will be GRAY.\n",
        "\n",
        "There are initially 12,972 possible words that could be the word of the day. The solver always guesses the first choice to be \"aeros\" from the high probablity of that work yeilding yellows or greens. From there the solver takes in the clues to reduce the amount of words and guesses until it arrives at the correct word! \n"
      ],
      "metadata": {
        "id": "xLmzmv2ir4hU"
      }
    },
    {
      "cell_type": "code",
      "source": [
        "from google.colab import drive\n",
        "drive.mount('/content/drive')"
      ],
      "metadata": {
        "colab": {
          "base_uri": "https://localhost:8080/"
        },
        "id": "p7euKHpErYKg",
        "outputId": "af05b1b1-1792-4712-c53d-7e5db1a314ec"
      },
      "execution_count": 2,
      "outputs": [
        {
          "output_type": "stream",
          "name": "stdout",
          "text": [
            "Mounted at /content/drive\n"
          ]
        }
      ]
    },
    {
      "cell_type": "code",
      "source": [
        "with open('/content/drive/My Drive/Colab Notebooks/Data Science/Wordle_words.csv') as f: \n",
        "    five_words = list(f) "
      ],
      "metadata": {
        "id": "4KUp0YsarYN1"
      },
      "execution_count": 3,
      "outputs": []
    },
    {
      "cell_type": "code",
      "source": [
        "### DF to work with\n",
        "# removing the /n in the list\n",
        "converted_list = []\n",
        "for element in five_words:\n",
        "    converted_list.append(element.strip())\n",
        "\n",
        "# splitting up all of the words into letters\n",
        "final_lst = []\n",
        "for word in converted_list:\n",
        "  final_lst.append(list(word))\n",
        "\n",
        "# convert to df\n",
        "letters_df = pd.DataFrame(final_lst, columns =['first', 'second', 'third', 'fourth', 'fifth'])\n",
        "letters_df['word'] = converted_list\n",
        "letters_df.head(1)\n",
        "\n",
        "\n",
        "# bringing in top frequencies of letters in words\n",
        "all_words = \"\".join(converted_list) \n",
        "res = Counter(all_words)\n",
        "\n",
        "df_res = pd.DataFrame.from_dict(res, orient='index').reset_index()\n",
        "df_res = df_res.rename(columns={'index':'letter', 0:'count'})\n",
        "\n",
        "sorted_df = df_res.sort_values([\"count\"], ascending=False)\n",
        "sorted_df['rank'] = np.arange(1,27)\n",
        "sorted_df.head(1)\n",
        "\n",
        "# global variables \n",
        "df_test = letters_df.copy()"
      ],
      "metadata": {
        "colab": {
          "base_uri": "https://localhost:8080/",
          "height": 145
        },
        "id": "6jRjXtVC9xH3",
        "outputId": "73eacb5a-72cb-4f03-93e8-c28b2e91785d"
      },
      "execution_count": 29,
      "outputs": [
        {
          "output_type": "execute_result",
          "data": {
            "text/html": [
              "\n",
              "  <div id=\"df-041ba6c0-4d02-49e4-8510-6145f43f3e09\">\n",
              "    <div class=\"colab-df-container\">\n",
              "      <div>\n",
              "<style scoped>\n",
              "    .dataframe tbody tr th:only-of-type {\n",
              "        vertical-align: middle;\n",
              "    }\n",
              "\n",
              "    .dataframe tbody tr th {\n",
              "        vertical-align: top;\n",
              "    }\n",
              "\n",
              "    .dataframe thead th {\n",
              "        text-align: right;\n",
              "    }\n",
              "</style>\n",
              "<table border=\"1\" class=\"dataframe\">\n",
              "  <thead>\n",
              "    <tr style=\"text-align: right;\">\n",
              "      <th></th>\n",
              "      <th>first</th>\n",
              "      <th>second</th>\n",
              "      <th>third</th>\n",
              "      <th>fourth</th>\n",
              "      <th>fifth</th>\n",
              "      <th>word</th>\n",
              "    </tr>\n",
              "  </thead>\n",
              "  <tbody>\n",
              "    <tr>\n",
              "      <th>0</th>\n",
              "      <td>a</td>\n",
              "      <td>a</td>\n",
              "      <td>h</td>\n",
              "      <td>e</td>\n",
              "      <td>d</td>\n",
              "      <td>aahed</td>\n",
              "    </tr>\n",
              "  </tbody>\n",
              "</table>\n",
              "</div>\n",
              "      <button class=\"colab-df-convert\" onclick=\"convertToInteractive('df-041ba6c0-4d02-49e4-8510-6145f43f3e09')\"\n",
              "              title=\"Convert this dataframe to an interactive table.\"\n",
              "              style=\"display:none;\">\n",
              "        \n",
              "  <svg xmlns=\"http://www.w3.org/2000/svg\" height=\"24px\"viewBox=\"0 0 24 24\"\n",
              "       width=\"24px\">\n",
              "    <path d=\"M0 0h24v24H0V0z\" fill=\"none\"/>\n",
              "    <path d=\"M18.56 5.44l.94 2.06.94-2.06 2.06-.94-2.06-.94-.94-2.06-.94 2.06-2.06.94zm-11 1L8.5 8.5l.94-2.06 2.06-.94-2.06-.94L8.5 2.5l-.94 2.06-2.06.94zm10 10l.94 2.06.94-2.06 2.06-.94-2.06-.94-.94-2.06-.94 2.06-2.06.94z\"/><path d=\"M17.41 7.96l-1.37-1.37c-.4-.4-.92-.59-1.43-.59-.52 0-1.04.2-1.43.59L10.3 9.45l-7.72 7.72c-.78.78-.78 2.05 0 2.83L4 21.41c.39.39.9.59 1.41.59.51 0 1.02-.2 1.41-.59l7.78-7.78 2.81-2.81c.8-.78.8-2.07 0-2.86zM5.41 20L4 18.59l7.72-7.72 1.47 1.35L5.41 20z\"/>\n",
              "  </svg>\n",
              "      </button>\n",
              "      \n",
              "  <style>\n",
              "    .colab-df-container {\n",
              "      display:flex;\n",
              "      flex-wrap:wrap;\n",
              "      gap: 12px;\n",
              "    }\n",
              "\n",
              "    .colab-df-convert {\n",
              "      background-color: #E8F0FE;\n",
              "      border: none;\n",
              "      border-radius: 50%;\n",
              "      cursor: pointer;\n",
              "      display: none;\n",
              "      fill: #1967D2;\n",
              "      height: 32px;\n",
              "      padding: 0 0 0 0;\n",
              "      width: 32px;\n",
              "    }\n",
              "\n",
              "    .colab-df-convert:hover {\n",
              "      background-color: #E2EBFA;\n",
              "      box-shadow: 0px 1px 2px rgba(60, 64, 67, 0.3), 0px 1px 3px 1px rgba(60, 64, 67, 0.15);\n",
              "      fill: #174EA6;\n",
              "    }\n",
              "\n",
              "    [theme=dark] .colab-df-convert {\n",
              "      background-color: #3B4455;\n",
              "      fill: #D2E3FC;\n",
              "    }\n",
              "\n",
              "    [theme=dark] .colab-df-convert:hover {\n",
              "      background-color: #434B5C;\n",
              "      box-shadow: 0px 1px 3px 1px rgba(0, 0, 0, 0.15);\n",
              "      filter: drop-shadow(0px 1px 2px rgba(0, 0, 0, 0.3));\n",
              "      fill: #FFFFFF;\n",
              "    }\n",
              "  </style>\n",
              "\n",
              "      <script>\n",
              "        const buttonEl =\n",
              "          document.querySelector('#df-041ba6c0-4d02-49e4-8510-6145f43f3e09 button.colab-df-convert');\n",
              "        buttonEl.style.display =\n",
              "          google.colab.kernel.accessAllowed ? 'block' : 'none';\n",
              "\n",
              "        async function convertToInteractive(key) {\n",
              "          const element = document.querySelector('#df-041ba6c0-4d02-49e4-8510-6145f43f3e09');\n",
              "          const dataTable =\n",
              "            await google.colab.kernel.invokeFunction('convertToInteractive',\n",
              "                                                     [key], {});\n",
              "          if (!dataTable) return;\n",
              "\n",
              "          const docLinkHtml = 'Like what you see? Visit the ' +\n",
              "            '<a target=\"_blank\" href=https://colab.research.google.com/notebooks/data_table.ipynb>data table notebook</a>'\n",
              "            + ' to learn more about interactive tables.';\n",
              "          element.innerHTML = '';\n",
              "          dataTable['output_type'] = 'display_data';\n",
              "          await google.colab.output.renderOutput(dataTable, element);\n",
              "          const docLink = document.createElement('div');\n",
              "          docLink.innerHTML = docLinkHtml;\n",
              "          element.appendChild(docLink);\n",
              "        }\n",
              "      </script>\n",
              "    </div>\n",
              "  </div>\n",
              "  "
            ],
            "text/plain": [
              "  first second third fourth fifth   word\n",
              "0     a      a     h      e     d  aahed"
            ]
          },
          "metadata": {},
          "execution_count": 29
        },
        {
          "output_type": "execute_result",
          "data": {
            "text/html": [
              "\n",
              "  <div id=\"df-f0ec3fb7-9b63-4efd-92f3-df2c168a92d4\">\n",
              "    <div class=\"colab-df-container\">\n",
              "      <div>\n",
              "<style scoped>\n",
              "    .dataframe tbody tr th:only-of-type {\n",
              "        vertical-align: middle;\n",
              "    }\n",
              "\n",
              "    .dataframe tbody tr th {\n",
              "        vertical-align: top;\n",
              "    }\n",
              "\n",
              "    .dataframe thead th {\n",
              "        text-align: right;\n",
              "    }\n",
              "</style>\n",
              "<table border=\"1\" class=\"dataframe\">\n",
              "  <thead>\n",
              "    <tr style=\"text-align: right;\">\n",
              "      <th></th>\n",
              "      <th>letter</th>\n",
              "      <th>count</th>\n",
              "      <th>rank</th>\n",
              "    </tr>\n",
              "  </thead>\n",
              "  <tbody>\n",
              "    <tr>\n",
              "      <th>12</th>\n",
              "      <td>s</td>\n",
              "      <td>6665</td>\n",
              "      <td>1</td>\n",
              "    </tr>\n",
              "  </tbody>\n",
              "</table>\n",
              "</div>\n",
              "      <button class=\"colab-df-convert\" onclick=\"convertToInteractive('df-f0ec3fb7-9b63-4efd-92f3-df2c168a92d4')\"\n",
              "              title=\"Convert this dataframe to an interactive table.\"\n",
              "              style=\"display:none;\">\n",
              "        \n",
              "  <svg xmlns=\"http://www.w3.org/2000/svg\" height=\"24px\"viewBox=\"0 0 24 24\"\n",
              "       width=\"24px\">\n",
              "    <path d=\"M0 0h24v24H0V0z\" fill=\"none\"/>\n",
              "    <path d=\"M18.56 5.44l.94 2.06.94-2.06 2.06-.94-2.06-.94-.94-2.06-.94 2.06-2.06.94zm-11 1L8.5 8.5l.94-2.06 2.06-.94-2.06-.94L8.5 2.5l-.94 2.06-2.06.94zm10 10l.94 2.06.94-2.06 2.06-.94-2.06-.94-.94-2.06-.94 2.06-2.06.94z\"/><path d=\"M17.41 7.96l-1.37-1.37c-.4-.4-.92-.59-1.43-.59-.52 0-1.04.2-1.43.59L10.3 9.45l-7.72 7.72c-.78.78-.78 2.05 0 2.83L4 21.41c.39.39.9.59 1.41.59.51 0 1.02-.2 1.41-.59l7.78-7.78 2.81-2.81c.8-.78.8-2.07 0-2.86zM5.41 20L4 18.59l7.72-7.72 1.47 1.35L5.41 20z\"/>\n",
              "  </svg>\n",
              "      </button>\n",
              "      \n",
              "  <style>\n",
              "    .colab-df-container {\n",
              "      display:flex;\n",
              "      flex-wrap:wrap;\n",
              "      gap: 12px;\n",
              "    }\n",
              "\n",
              "    .colab-df-convert {\n",
              "      background-color: #E8F0FE;\n",
              "      border: none;\n",
              "      border-radius: 50%;\n",
              "      cursor: pointer;\n",
              "      display: none;\n",
              "      fill: #1967D2;\n",
              "      height: 32px;\n",
              "      padding: 0 0 0 0;\n",
              "      width: 32px;\n",
              "    }\n",
              "\n",
              "    .colab-df-convert:hover {\n",
              "      background-color: #E2EBFA;\n",
              "      box-shadow: 0px 1px 2px rgba(60, 64, 67, 0.3), 0px 1px 3px 1px rgba(60, 64, 67, 0.15);\n",
              "      fill: #174EA6;\n",
              "    }\n",
              "\n",
              "    [theme=dark] .colab-df-convert {\n",
              "      background-color: #3B4455;\n",
              "      fill: #D2E3FC;\n",
              "    }\n",
              "\n",
              "    [theme=dark] .colab-df-convert:hover {\n",
              "      background-color: #434B5C;\n",
              "      box-shadow: 0px 1px 3px 1px rgba(0, 0, 0, 0.15);\n",
              "      filter: drop-shadow(0px 1px 2px rgba(0, 0, 0, 0.3));\n",
              "      fill: #FFFFFF;\n",
              "    }\n",
              "  </style>\n",
              "\n",
              "      <script>\n",
              "        const buttonEl =\n",
              "          document.querySelector('#df-f0ec3fb7-9b63-4efd-92f3-df2c168a92d4 button.colab-df-convert');\n",
              "        buttonEl.style.display =\n",
              "          google.colab.kernel.accessAllowed ? 'block' : 'none';\n",
              "\n",
              "        async function convertToInteractive(key) {\n",
              "          const element = document.querySelector('#df-f0ec3fb7-9b63-4efd-92f3-df2c168a92d4');\n",
              "          const dataTable =\n",
              "            await google.colab.kernel.invokeFunction('convertToInteractive',\n",
              "                                                     [key], {});\n",
              "          if (!dataTable) return;\n",
              "\n",
              "          const docLinkHtml = 'Like what you see? Visit the ' +\n",
              "            '<a target=\"_blank\" href=https://colab.research.google.com/notebooks/data_table.ipynb>data table notebook</a>'\n",
              "            + ' to learn more about interactive tables.';\n",
              "          element.innerHTML = '';\n",
              "          dataTable['output_type'] = 'display_data';\n",
              "          await google.colab.output.renderOutput(dataTable, element);\n",
              "          const docLink = document.createElement('div');\n",
              "          docLink.innerHTML = docLinkHtml;\n",
              "          element.appendChild(docLink);\n",
              "        }\n",
              "      </script>\n",
              "    </div>\n",
              "  </div>\n",
              "  "
            ],
            "text/plain": [
              "   letter  count  rank\n",
              "12      s   6665     1"
            ]
          },
          "metadata": {},
          "execution_count": 29
        }
      ]
    },
    {
      "cell_type": "code",
      "source": [
        ""
      ],
      "metadata": {
        "id": "0az5HllfLlS7"
      },
      "execution_count": null,
      "outputs": []
    },
    {
      "cell_type": "markdown",
      "source": [
        "# **User Created Functions**"
      ],
      "metadata": {
        "id": "4a7Ahx7E70dr"
      }
    },
    {
      "cell_type": "code",
      "source": [
        "# reads in a dataframe of words and outputs the word with the highest frequency of unique letters\n",
        "def most_frequent(df, n_uq):\n",
        "  score = []\n",
        "  nunique = []\n",
        "  for i in df.index: \n",
        "    l1 = df['first'][i]\n",
        "    l1_r = int(sorted_df[sorted_df['letter']== l1]['rank'])\n",
        "    \n",
        "    l2 = df['second'][i]\n",
        "    l2_r = int(sorted_df[sorted_df['letter']== l2]['rank'])\n",
        "    \n",
        "    l3 = df['third'][i]\n",
        "    l3_r = int(sorted_df[sorted_df['letter']== l3]['rank'])\n",
        "    \n",
        "    l4 = df['fourth'][i]\n",
        "    l4_r = int(sorted_df[sorted_df['letter']== l4]['rank'])\n",
        "    \n",
        "    l5 = df['fifth'][i]\n",
        "    l5_r = int(sorted_df[sorted_df['letter']== l5]['rank'])\n",
        "\n",
        "    score = np.append(score, l1_r + l2_r + l3_r + l4_r + l5_r)\n",
        "    nunique = np.append(nunique, len(np.unique(list(df['word'][i]))))\n",
        "  df['nunique'] = nunique\n",
        "  df['score'] = score\n",
        "\n",
        "  # return top word\n",
        "  five_df = df[df['nunique'] >= n_uq]\n",
        "  if len(five_df) > 0:\n",
        "    min_df = five_df[five_df['score']==min(five_df['score'])]\n",
        "  else: \n",
        "    while len(five_df) == 0:\n",
        "      n_uq = n_uq - 1\n",
        "      five_df = df[df['nunique'] >= n_uq] \n",
        "    min_df = five_df[five_df['score']==min(five_df['score'])]\n",
        "\n",
        "  return min_df['word'].iloc[0]"
      ],
      "metadata": {
        "id": "sTvWV9hR7yul"
      },
      "execution_count": 30,
      "outputs": []
    },
    {
      "cell_type": "code",
      "source": [
        "def first_guess(df, n_uq):\n",
        "  # first guess takes a word of most frequent occurance  \n",
        "  guess = 'aeros'  \n",
        "  guessed_words.append(guess)\n",
        "  if guess == word_of_day:\n",
        "    print('Congrats you guessed the word of the day! \\n The word was: ', word_of_day)\n",
        "    return 1\n",
        "  else:  \n",
        "    no_g = len(guessed_words)\n",
        "    print('Guess ', no_g, ':', guess, ' \\n  Wrong! Try again.')\n",
        "    return 0"
      ],
      "metadata": {
        "id": "lWD88It37zAR"
      },
      "execution_count": 31,
      "outputs": []
    },
    {
      "cell_type": "code",
      "source": [
        "# labels the grey, yellow, greens:\n",
        "def clue(df, guess):\n",
        "  \n",
        "  guess_word = guess[-1]\n",
        "  guess_lst = list(guess_word)\n",
        "  guess_pos = ['first', 'second', 'third', 'fourth', 'fifth']\n",
        "\n",
        "  # binary list indicators 1 if letter exists 0 if not \n",
        "  first_lst = []         \n",
        "  second_lst = []\n",
        "  third_lst = []\n",
        "  fourth_lst = []\n",
        "  fifth_lst = []\n",
        "\n",
        "  # reset lists\n",
        "  yellow_position = []\n",
        "  yellow_letters = []\n",
        "  grey_letters = []\n",
        "  green_letters = [] \n",
        "\n",
        "  # tagging for yellow/green and outputs any gray letters \n",
        "  for l in guess_lst:\n",
        "    # default for indicator for 0 (doesn't exists)\n",
        "    first_ind = 0\n",
        "    second_ind = 0\n",
        "    third_ind = 0\n",
        "    fourth_ind = 0\n",
        "    fifth_ind = 0\n",
        "\n",
        "    # statements to tag if letter exists in word of the day\n",
        "    if l == final_word['first'].iloc[0]:\n",
        "      first_ind = 1\n",
        "    if l == final_word['second'].iloc[0]:\n",
        "      second_ind = 1\n",
        "    if l == final_word['third'].iloc[0]:\n",
        "      third_ind = 1\n",
        "    if l == final_word['fourth'].iloc[0]:\n",
        "      fourth_ind = 1\n",
        "    if l == final_word['fifth'].iloc[0]:\n",
        "      fifth_ind = 1\n",
        "\n",
        "    # else it is a gray letter\n",
        "    if l not in final_word['word'].iloc[0]:\n",
        "      grey_letters.append(l)\n",
        "\n",
        "    # appends indicators to the lists\n",
        "    first_lst.append(first_ind)\n",
        "    second_lst.append(second_ind)\n",
        "    third_lst.append(third_ind)\n",
        "    fourth_lst.append(fourth_ind)\n",
        "    fifth_lst.append(fifth_ind)\n",
        "\n",
        "  # green check\n",
        "  if first_lst[0] == 1:\n",
        "    green_letters.append('first') \n",
        "\n",
        "  if second_lst[1] == 1:\n",
        "    green_letters.append('second')  \n",
        "    \n",
        "  if third_lst[2] == 1:\n",
        "    green_letters.append('third')\n",
        "    \n",
        "  if fourth_lst[3] == 1:\n",
        "    green_letters.append('fourth')\n",
        "    \n",
        "  if fifth_lst[4] == 1:\n",
        "    green_letters.append('fifth')\n",
        "\n",
        "  # yellow check \n",
        "  if (1 in first_lst) and (first_lst[0] != 1):\n",
        "    for x in np.arange(0,5):\n",
        "      if first_lst[x] == 1:\n",
        "        yellow_position.append(guess_pos[x]) \n",
        "        yellow_letters.append(guess_lst[x]) \n",
        "\n",
        "  if (1 in second_lst) and (second_lst[1] != 1):\n",
        "    for x in np.arange(0,5):\n",
        "      if second_lst[x] == 1:\n",
        "        yellow_position.append(guess_pos[x]) \n",
        "        yellow_letters.append(guess_lst[x]) \n",
        "    \n",
        "  if (1 in third_lst) and (third_lst[2] != 1):\n",
        "    for x in np.arange(0,5):\n",
        "      if third_lst[x] == 1:\n",
        "        yellow_position.append(guess_pos[x]) \n",
        "        yellow_letters.append(guess_lst[x]) \n",
        "    \n",
        "  if (1 in fourth_lst) and (fourth_lst[3] != 1):\n",
        "    for x in np.arange(0,5):\n",
        "      if fourth_lst[x] == 1:\n",
        "        yellow_position.append(guess_pos[x]) \n",
        "        yellow_letters.append(guess_lst[x])  \n",
        "    \n",
        "  if (1 in fifth_lst) and (fifth_lst[4] != 1):\n",
        "    for x in np.arange(0,5):\n",
        "      if fifth_lst[x] == 1:\n",
        "        yellow_position.append(guess_pos[x]) \n",
        "        yellow_letters.append(guess_lst[x])  \n",
        "\n",
        "  # removes the grey letters from df \n",
        "  for letter in grey_letters:\n",
        "    df = df[~df['word'].str.contains(letter)] \n",
        "\n",
        "  # keeps the green letters in df  \n",
        "  for place in green_letters:\n",
        "    letter = final_word[place].iloc[0]\n",
        "    df = df[df[place]==letter] \n",
        "  \n",
        "  # additional catch to ommit instances with green and yellow overlap \n",
        "  intersection_set = set.intersection(set(green_letters), set(yellow_position))\n",
        "  intersection_list = list(intersection_set)\n",
        "  if len(intersection_list) == 1:\n",
        "    yellow_position.remove(intersection_list[0])\n",
        "  else:\n",
        "    for i in intersection_list:\n",
        "      yellow_position.remove(i)\n",
        "\n",
        "  # keeps the yellow letters in df\n",
        "  word = letters_df[letters_df['word']== guess_word]\n",
        "  # remove yellow words in their yellow position \n",
        "  for pos in yellow_position:\n",
        "    letter = word[pos].iloc[0]\n",
        "    df = df[df[pos]!=letter]\n",
        "  # keep the yellow words\n",
        "  for letter in yellow_letters:\n",
        "    df = df[df['word'].str.contains(letter)]  \n",
        "\n",
        "  # debugging testing\n",
        "#  print('yellow_position', yellow_position)\n",
        "#  print('yellow_letters', yellow_letters)\n",
        "#  print('grey_letters', grey_letters)\n",
        "#  print('green_letters', green_letters)\n",
        "\n",
        "  return df"
      ],
      "metadata": {
        "id": "iiEjN4b5BQl-"
      },
      "execution_count": 32,
      "outputs": []
    },
    {
      "cell_type": "code",
      "source": [
        "# new guesses\n",
        "def guessing(df, n_uq):\n",
        "  # first guess takes a word of most frequent occurance  \n",
        "  guess = most_frequent(df, n_uq)\n",
        "  guessed_words.append(guess)\n",
        "  if guess == word_of_day: \n",
        "    print('Congrats you guessed the word of the day! \\n The word was: ', word_of_day)\n",
        "    return 1\n",
        "  else:  \n",
        "    no_g = len(guessed_words)\n",
        "    print('Guess ', no_g, ':', guess, ' \\n  Wrong! Try again.')\n",
        "    return 0"
      ],
      "metadata": {
        "id": "gjd_iUbXFsDG"
      },
      "execution_count": 33,
      "outputs": []
    },
    {
      "cell_type": "code",
      "source": [
        "#########################\n",
        "# Main Function Solver\n",
        "#########################\n",
        "def main_solver(df):\n",
        "  winner = 0\n",
        "  while winner == 0:\n",
        "    if len(guessed_words) < 1:\n",
        "      winner = first_guess(df, 5)  \n",
        "      df = clue(df, guessed_words) \n",
        "      print(\"There are\", len(df), \" possible words\")\n",
        "    else:\n",
        "      # user created functions\n",
        "      winner = guessing(df,5)\n",
        "      df = clue(df, guessed_words)  \n",
        "      print(\"There are\", len(df), \" possible words\") \n",
        "  return print(\"Congrats! Wordle Solver guessed the word of the day in \", len(guessed_words), \" moves :D\")"
      ],
      "metadata": {
        "id": "zE9OTACW8o5U"
      },
      "execution_count": 34,
      "outputs": []
    },
    {
      "cell_type": "code",
      "source": [
        "guessed_words = [] \n",
        "word_of_day = 'sugar'\n",
        "final_word = letters_df[letters_df['word'] == word_of_day]\n",
        "\n",
        "main_solver(df_test)"
      ],
      "metadata": {
        "colab": {
          "base_uri": "https://localhost:8080/"
        },
        "id": "NnT3JvaEjHvi",
        "outputId": "72f30a98-8ca1-4de6-d71e-3086a295d8d3"
      },
      "execution_count": null,
      "outputs": [
        {
          "output_type": "stream",
          "name": "stdout",
          "text": [
            "Guess  1 : aeros  \n",
            "  Wrong! Try again.\n",
            "There are 53  possible words\n",
            "Guess  2 : sitar  \n",
            "  Wrong! Try again.\n",
            "There are 2  possible words\n",
            "Congrats you guessed the word of the day! \n",
            " The word was:  sugar\n",
            "There are 1  possible words\n",
            "Congrats! Wordle Solver guessed the word of the day in  3  moves :D\n"
          ]
        }
      ]
    },
    {
      "cell_type": "code",
      "source": [
        "guessed_words = [] \n",
        "word_of_day = 'scamp'\n",
        "final_word = letters_df[letters_df['word'] == word_of_day]\n",
        "\n",
        "main_solver(df_test)"
      ],
      "metadata": {
        "colab": {
          "base_uri": "https://localhost:8080/"
        },
        "id": "I23fAgA0Q_wC",
        "outputId": "51ca610d-d906-44a2-ae71-2f7defcf63a9"
      },
      "execution_count": null,
      "outputs": [
        {
          "output_type": "stream",
          "name": "stdout",
          "text": [
            "Guess  1 : aeros  \n",
            "  Wrong! Try again.\n",
            "Guess  2 : slain  \n",
            "  Wrong! Try again.\n",
            "Guess  3 : scaud  \n",
            "  Wrong! Try again.\n",
            "Guess  4 : scath  \n",
            "  Wrong! Try again.\n",
            "Congrats you guessed the word of the day! \n",
            " The word was:  scamp\n",
            "Congrats! Wordle Solver guessed the word of the day in  5  moves :D\n"
          ]
        }
      ]
    },
    {
      "cell_type": "code",
      "source": [
        "guessed_words = [] \n",
        "word_of_day = 'pests'\n",
        "final_word = letters_df[letters_df['word'] == word_of_day]\n",
        "\n",
        "main_solver(df_test)"
      ],
      "metadata": {
        "colab": {
          "base_uri": "https://localhost:8080/"
        },
        "id": "AGvPW_6e2F2J",
        "outputId": "4920e36a-5489-439a-bcdc-ffa1c4c29d2b"
      },
      "execution_count": null,
      "outputs": [
        {
          "output_type": "stream",
          "name": "stdout",
          "text": [
            "Guess  1 : aeros  \n",
            "  Wrong! Try again.\n",
            "There are 310  possible words\n",
            "Guess  2 : teils  \n",
            "  Wrong! Try again.\n",
            "There are 53  possible words\n",
            "Guess  3 : dents  \n",
            "  Wrong! Try again.\n",
            "There are 24  possible words\n",
            "Guess  4 : hefts  \n",
            "  Wrong! Try again.\n",
            "There are 19  possible words\n",
            "Guess  5 : yests  \n",
            "  Wrong! Try again.\n",
            "There are 8  possible words\n",
            "Congrats you guessed the word of the day! \n",
            " The word was:  pests\n",
            "There are 1  possible words\n",
            "Congrats! Wordle Solver guessed the word of the day in  6  moves :D\n"
          ]
        }
      ]
    },
    {
      "cell_type": "code",
      "source": [
        "guessed_words = [] \n",
        "word_of_day = 'tests'\n",
        "final_word = letters_df[letters_df['word'] == word_of_day]\n",
        "\n",
        "main_solver(df_test)"
      ],
      "metadata": {
        "colab": {
          "base_uri": "https://localhost:8080/"
        },
        "id": "hfBwsUB0ICjn",
        "outputId": "e617c600-3090-40dd-b65e-9809c4bfc6d4"
      },
      "execution_count": null,
      "outputs": [
        {
          "output_type": "stream",
          "name": "stdout",
          "text": [
            "Guess  1 : aeros  \n",
            "  Wrong! Try again.\n",
            "There are 310  possible words\n",
            "Guess  2 : teils  \n",
            "  Wrong! Try again.\n",
            "There are 16  possible words\n",
            "Guess  3 : tends  \n",
            "  Wrong! Try again.\n",
            "There are 12  possible words\n",
            "Guess  4 : tegus  \n",
            "  Wrong! Try again.\n",
            "There are 10  possible words\n",
            "Guess  5 : techs  \n",
            "  Wrong! Try again.\n",
            "There are 8  possible words\n",
            "Guess  6 : temps  \n",
            "  Wrong! Try again.\n",
            "There are 5  possible words\n",
            "Guess  7 : texes  \n",
            "  Wrong! Try again.\n",
            "There are 3  possible words\n",
            "Guess  8 : teffs  \n",
            "  Wrong! Try again.\n",
            "There are 2  possible words\n",
            "Congrats you guessed the word of the day! \n",
            " The word was:  tests\n",
            "There are 1  possible words\n",
            "Congrats! Wordle Solver guessed the word of the day in  9  moves :D\n"
          ]
        }
      ]
    },
    {
      "cell_type": "code",
      "source": [
        "guessed_words = [] \n",
        "word_of_day = 'dodge'\n",
        "final_word = letters_df[letters_df['word'] == word_of_day]\n",
        "\n",
        "main_solver(df_test)"
      ],
      "metadata": {
        "id": "Tj0skUNUSIRd",
        "colab": {
          "base_uri": "https://localhost:8080/"
        },
        "outputId": "cbb46007-93dd-41c6-b9f2-82320fc6f1be"
      },
      "execution_count": 35,
      "outputs": [
        {
          "output_type": "stream",
          "name": "stdout",
          "text": [
            "Guess  1 : aeros  \n",
            "  Wrong! Try again.\n",
            "There are 403  possible words\n",
            "Guess  2 : toile  \n",
            "  Wrong! Try again.\n",
            "There are 47  possible words\n",
            "Guess  3 : coude  \n",
            "  Wrong! Try again.\n",
            "There are 7  possible words\n",
            "Guess  4 : podge  \n",
            "  Wrong! Try again.\n",
            "There are 4  possible words\n",
            "Guess  5 : modge  \n",
            "  Wrong! Try again.\n",
            "There are 3  possible words\n",
            "Guess  6 : bodge  \n",
            "  Wrong! Try again.\n",
            "There are 2  possible words\n",
            "Guess  7 : wodge  \n",
            "  Wrong! Try again.\n",
            "There are 1  possible words\n",
            "Congrats you guessed the word of the day! \n",
            " The word was:  dodge\n",
            "There are 1  possible words\n",
            "Congrats! Wordle Solver guessed the word of the day in  8  moves :D\n"
          ]
        }
      ]
    },
    {
      "cell_type": "code",
      "source": [
        ""
      ],
      "metadata": {
        "id": "OGYU-QRVSITs"
      },
      "execution_count": null,
      "outputs": []
    }
  ]
}