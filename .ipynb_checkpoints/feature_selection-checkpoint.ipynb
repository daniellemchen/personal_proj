{
 "cells": [
  {
   "cell_type": "markdown",
   "id": "db9b68ab-01c8-42e7-9ca9-05f32f0cb9a0",
   "metadata": {},
   "source": [
    "# Feature Selection\n",
    "\n",
    "**Why feature selection?** Feature selection is the process of identifying and selecting the most important features (aka variables) in a dataset to improve model performance. By removing irrelevant features, it can reduce overfitting, speed up training, and enhance model interpretability.\n",
    "\n",
    "**In comes in XGBoost!** XGBoost is great for feature selection because it automatically evaluates the importance of each feature based on how much it improves the model's predictions. It does this by looking at how often each feature is used in decision trees and how much it contributes to reducing errors. This makes it easy to identify and keep the most important features while discarding irrelevant ones, leading to a simpler and more efficient model.\n",
    "\n",
    "##### **Pros and Cons of Feature Selection with XGBoost**\n",
    "| **Pros**                           | **Cons**                                      |\n",
    "|-------------------------------------|-----------------------------------------------|\n",
    "| **Built-in Feature Importance**: XGBoost ranks features by importance (e.g., Gain, Weight). | **Bias in Importance**: XGBoost may favor frequently used or correlated features, even if not truly important. |\n",
    "| **Reduces Overfitting**: By removing irrelevant features, it helps the model generalize better. | **Computational Overhead**: Feature selection methods may require additional model training and evaluation. |\n",
    "| **Improves Efficiency**: Reduces training time and computation by selecting fewer features. | **Risk of Overfitting**: Poor feature selection may lead to overfitting if not validated properly. |\n",
    "| **Automatic Ranking**: Features are ranked and selected based on their contribution to model performance. | **Limited Flexibility**: XGBoost’s feature importance may miss complex non-linear relationships. |\n",
    "| **Works with Other Methods**: Can be combined with techniques like SelectKBest or RFE for better feature selection. | **Model-Specific**: Features selected by XGBoost may not work well with other algorithms. |\n",
    " \n",
    "### What you'll find in this notebook:\n",
    "1.  User created functions to easily call upon xgboost and interpret the performance of the model\n",
    "    2.  roc_print: This function prints the ROC curves of both our test and training clssification models.\n",
    "    3.  graph_xgb: This function graphs the top N features from our XGBoost model into a bar chart.\n",
    "    4.  build_xgb:  This function returns a XGBoost model and a list of the top N features.\n",
    "2.  Using the above functions.\n",
    "\n"
   ]
  },
  {
   "cell_type": "code",
   "execution_count": 82,
   "id": "98b6ddf6-9360-42b6-b62b-81bf03e924be",
   "metadata": {},
   "outputs": [],
   "source": [
    "#pip install xgboost"
   ]
  },
  {
   "cell_type": "code",
   "execution_count": 46,
   "id": "dea91f01-31fa-4074-a087-348526a2c3e0",
   "metadata": {},
   "outputs": [],
   "source": [
    "# packages needed\n",
    "import pandas as pd\n",
    "import numpy as np\n",
    "import matplotlib.pyplot as plt\n",
    "from matplotlib import style\n",
    "\n",
    "from sklearn import metrics \n",
    "from sklearn.metrics import * #(roc_auc_score, confusion_matrix, accuracy\n",
    "from sklearn.model_selection import train_test_split\n",
    "from sklearn.datasets import make_classification\n",
    "from sklearn.feature_selection import SelectKBest, f_classif\n",
    "\n",
    "from xgboost import XGBClassifier\n",
    "from xgboost import XGBRegressor"
   ]
  },
  {
   "cell_type": "code",
   "execution_count": 74,
   "id": "2ec8d43f-172f-4b83-81ce-edc998facd23",
   "metadata": {},
   "outputs": [],
   "source": [
    "# XGBoost \n",
    "def roc_print(y_train, y_test, y_pred, y_pred_test):\n",
    "    \"\"\"\n",
    "    This function prints the ROC curves of both our test and training clssification models.\n",
    "    The # quantifies the model's ability to distinguish between the positive class and the negative class\n",
    "    \n",
    "    Args: \n",
    "        y_train (pd.Series): Label data used for training the model \n",
    "        y_test (pd.Series): Label data used for evaluating the model\n",
    "        y_pred (np.ndarray): Predicted lables from Training data\n",
    "        y_pred_test (np.ndarray): Predicted labels from Test data\n",
    "        \n",
    "    Returns: None\n",
    "    \"\"\"\n",
    "    roc_train = roc_auc_score(y_train, y_pred)\n",
    "    roc_test = roc_auc_score(y_test, y_pred_test)\n",
    "    \n",
    "    auc = roc_train\n",
    "    if auc == 1:\n",
    "        status = \"The model perfectly classifies all positive and negative examples. It may be overfit\"\n",
    "    elif 0.6 < auc < 1:\n",
    "        status = \"The model has decent/good performance. The higher the AUC the better.\"\n",
    "    elif 0.5 < auc <= 0.6:\n",
    "        status = \"The model is only slightly better than random guessing.\"\n",
    "    else:\n",
    "        status = \"The model has quite poor performance, suggestion to retrain with more data or features.\"\n",
    "    print(\"Train ROC:\", roc_train, \"\\n\", status)\n",
    "\n",
    "    auc = roc_test\n",
    "    if auc == 1:\n",
    "        status = \"The model perfectly classifies all positive and negative examples. It may be overfit\"\n",
    "    elif 0.6 < auc < 1:\n",
    "        status = \"The model has decent/good performance. The higher the AUC the better.\"\n",
    "    elif 0.5 < auc <= 0.6:\n",
    "        status = \"The model is only slightly better than random guessing.\"\n",
    "    else:\n",
    "        status = \"The model has quite poor performance, suggestion to retrain with more data or features.\"\n",
    "    print(\"Test ROC:\", roc_test, \"\\n\", status)\n",
    "    \n",
    "    return\n",
    " \n",
    "def graph_xgb(cols, importance):\n",
    "    \"\"\"\n",
    "    This function graphs the top N features from our XGBoost model into a bar chart.\n",
    "\n",
    "    Args: \n",
    "        cols (list): list of top features to be graphed into a barchart\n",
    "        importance (list): List of feature importances outputted from our model\n",
    "    Returns: None\n",
    "    \"\"\"\n",
    "    plt.rcdefaults()\n",
    "    fig, ax = plt.subplots()\n",
    "\n",
    "    y_vals = np.arange(len(cols))\n",
    "    ax.barh(cols, importance)\n",
    "    ax.set_yticks(y_vals)\n",
    "    ax.invert_yaxis() # reading labels top to bottom\n",
    "    ax.set_xlabel('F Score')\n",
    "    ax.set_title('Top Features')\n",
    "\n",
    "    plt.show()\n",
    "    return\n",
    "\n",
    "\n",
    "def build_xgb(x_train, y_train, x_test, y_test, n_feat, classify, roc=True):\n",
    "    \"\"\"\n",
    "    This function returns a XGBoost model and a list of the top N features.\n",
    "\n",
    "    Args:\n",
    "        x_train (pd.DataFrame): Feature data used for training the model\n",
    "        y_train (pd.Series): Label data used for training the model\n",
    "        x_test (pd.DataFrame): Feature data used for evaluating the model\n",
    "        y_test (pd.Series): Label data used for evaluating the model\n",
    "        n_feat (int): Top N most important features from model\n",
    "        classify (bool): Signified if y labels are classification or regression\n",
    "        roc (bool): Determines if ROC scores will be printed\n",
    "   \n",
    "    Returns: \n",
    "        xgb_model: XGBoost Model\n",
    "        cols: List of top N most important features based off of model\n",
    "    \"\"\"\n",
    "    # edge case testing to ensure inputs are the right format\n",
    "    if not isinstance(n_feat, int):\n",
    "        print(\"Error! variable 'n_feat' should be an integer.\")\n",
    "        return \n",
    "        \n",
    "\n",
    "    if len(x_train) <= len(x_test):\n",
    "        print(\"Error! Check your x inputs. The training data is smaller than testing.\")\n",
    "        return\n",
    "\n",
    "    if len(y_train) <= len(y_test):\n",
    "        print(\"Error! Check your y inputs. The training data is smaller than testing.\")\n",
    "        return\n",
    "\n",
    "    # categorical Y\n",
    "    if classify == True:\n",
    "        xgb = XGBClassifier(seed = 13)\n",
    "\n",
    "    # continuos Y\n",
    "    else:\n",
    "        xgb = XGBRegressor(seed = 13)\n",
    "        roc = False # can't use this for regression\n",
    "\n",
    "    # build model\n",
    "    xgb_model = xgb.fit(x_train, y_train)\n",
    "\n",
    "    # make predictions - TRAIN\n",
    "    y_pred = xgb_model.predict(x_train)\n",
    "    predictions = [round(value) for value in y_pred]\n",
    "\n",
    "    # print metrics - TRAIN\n",
    "    accuracy = accuracy_score(y_train, predictions)\n",
    "    print(\"Train Accuracy: %.2f%%\" % (accuracy*100.0))\n",
    "    \n",
    "    # make predictions - TEST\n",
    "    y_pred_test = xgb_model.predict(x_test)\n",
    "    predictions_test = [round(value) for value in y_pred_test]\n",
    "\n",
    "    # print metrics - TEST\n",
    "    accuracy_test = accuracy_score(y_test, predictions_test)\n",
    "    print(\"Test Accuracy: %.2f%%\" % (accuracy_test*100.0))\n",
    "\n",
    "    # Feature Importance\n",
    "    xgb_feat = pd.DataFrame(list(xgb_model.get_booster().get_fscore().items())\n",
    "                            , columns = ['feature', 'importance']).sort_values('importance', ascending = False)\n",
    "\n",
    "    # return outputs\n",
    "    cols = list(xgb_feat['feature'][0:n_feat])\n",
    "    importance = list(xgb_feat['importance'][0:n_feat])\n",
    "    graph_xgb(cols, importance)\n",
    "\n",
    "    if roc==True:\n",
    "        roc_print(y_train, y_test, y_pred, y_pred_test)\n",
    "\n",
    "    return xgb_model, cols"
   ]
  },
  {
   "cell_type": "code",
   "execution_count": 76,
   "id": "24271679-087d-4c1d-888d-2a8dcd15d017",
   "metadata": {},
   "outputs": [
    {
     "name": "stdout",
     "output_type": "stream",
     "text": [
      "Train ROC: 0.25 \n",
      " The model has quite poor performance, suggestion to retrain with more data or features.\n",
      "Test ROC: 0.375 \n",
      " The model has quite poor performance, suggestion to retrain with more data or features.\n"
     ]
    }
   ],
   "source": [
    "# TEST: roc_print\n",
    "y_train = [0,1,1,1,1]\n",
    "y_test = [1,0,0,0,0]\n",
    "y_pred = [1,0,1,1,0]\n",
    "y_pred_test = [0,0,0,1,0]\n",
    "\n",
    "roc_print(y_train, y_test, y_pred, y_pred_test)"
   ]
  },
  {
   "cell_type": "code",
   "execution_count": 78,
   "id": "ce00bd2c-e03f-48a7-a7f8-f73713605ab7",
   "metadata": {},
   "outputs": [
    {
     "data": {
      "image/png": "[encoded data removed]",
      "text/plain": [
       "<Figure size 640x480 with 1 Axes>"
      ]
     },
     "metadata": {},
     "output_type": "display_data"
    }
   ],
   "source": [
    "# TEST: graph_xgboost\n",
    "cols = ['feat1', 'feat2', 'feat3']\n",
    "importance = [100, 90, 60]\n",
    "graph_xgb(cols, importance)"
   ]
  },
  {
   "cell_type": "code",
   "execution_count": 80,
   "id": "820d2e85-39b4-45b5-a26a-f5b5bd077be5",
   "metadata": {},
   "outputs": [
    {
     "name": "stdout",
     "output_type": "stream",
     "text": [
      "Train Accuracy: 100.00%\n",
      "Test Accuracy: 94.50%\n"
     ]
    },
    {
     "data": {
      "image/png": "[encoded data removed]",
      "text/plain": [
       "<Figure size 640x480 with 1 Axes>"
      ]
     },
     "metadata": {},
     "output_type": "display_data"
    },
    {
     "name": "stdout",
     "output_type": "stream",
     "text": [
      "Train ROC: 1.0 \n",
      " The model perfectly classifies all positive and negative examples. It may be overfit\n",
      "Test ROC: 0.9454008607746972 \n",
      " The model has decent/good performance. The higher the AUC the better.\n"
     ]
    }
   ],
   "source": [
    "# TEST: build_xgb\n",
    "\n",
    "# 1. Generate a synthetic classification dataset \n",
    "X, y = make_classification(n_samples=1000, n_features=20, n_informative=15, n_classes=2, random_state=13)\n",
    "\n",
    "# 2. Split the data into training and testing sets (80% train, 20% test)\n",
    "x_train, x_test, y_train, y_test = train_test_split(X, y, test_size=0.2, random_state=42)\n",
    "\n",
    "xgb_model, top_feat_list = build_xgb(x_train, y_train, x_test, y_test, n_feat=3, classify=True, roc=True)"
   ]
  }
 ],
 "metadata": {
  "kernelspec": {
   "display_name": "Python [conda env:base] *",
   "language": "python",
   "name": "conda-base-py"
  },
  "language_info": {
   "codemirror_mode": {
    "name": "ipython",
    "version": 3
   },
   "file_extension": ".py",
   "mimetype": "text/x-python",
   "name": "python",
   "nbconvert_exporter": "python",
   "pygments_lexer": "ipython3",
   "version": "3.12.7"
  }
 },
 "nbformat": 4,
 "nbformat_minor": 5
}
